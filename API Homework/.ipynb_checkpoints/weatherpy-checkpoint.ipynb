{
 "cells": [
  {
   "cell_type": "code",
   "execution_count": 2,
   "metadata": {},
   "outputs": [
    {
     "ename": "ModuleNotFoundError",
     "evalue": "No module named 'citipy'",
     "output_type": "error",
     "traceback": [
      "\u001b[1;31m---------------------------------------------------------------------------\u001b[0m",
      "\u001b[1;31mModuleNotFoundError\u001b[0m                       Traceback (most recent call last)",
      "\u001b[1;32m<ipython-input-2-4c71212315bf>\u001b[0m in \u001b[0;36m<module>\u001b[1;34m()\u001b[0m\n\u001b[0;32m      4\u001b[0m \u001b[1;32mimport\u001b[0m \u001b[0mmatplotlib\u001b[0m\u001b[1;33m.\u001b[0m\u001b[0mpyplot\u001b[0m \u001b[1;32mas\u001b[0m \u001b[0mplt\u001b[0m\u001b[1;33m\u001b[0m\u001b[0m\n\u001b[0;32m      5\u001b[0m \u001b[1;32mimport\u001b[0m \u001b[0mseaborn\u001b[0m\u001b[1;33m\u001b[0m\u001b[0m\n\u001b[1;32m----> 6\u001b[1;33m \u001b[1;32mfrom\u001b[0m \u001b[0mcitipy\u001b[0m \u001b[1;32mimport\u001b[0m \u001b[0mcitipy\u001b[0m\u001b[1;33m\u001b[0m\u001b[0m\n\u001b[0m\u001b[0;32m      7\u001b[0m \u001b[1;32mimport\u001b[0m \u001b[0mrandom\u001b[0m\u001b[1;33m\u001b[0m\u001b[0m\n\u001b[0;32m      8\u001b[0m \u001b[1;32mimport\u001b[0m \u001b[0mcsv\u001b[0m\u001b[1;33m\u001b[0m\u001b[0m\n",
      "\u001b[1;31mModuleNotFoundError\u001b[0m: No module named 'citipy'"
     ]
    }
   ],
   "source": [
    "#Dependencies\n",
    "\n",
    "import pandas as pd\n",
    "import matplotlib.pyplot as plt\n",
    "import seaborn\n",
    "from citipy import citipy\n",
    "import random\n",
    "import csv\n",
    "import requests\n",
    "import time\n",
    "from config import api_key\n",
    "\n",
    "#Import CSV file, and read into DataFrame.\n",
    "\n",
    "world_data = pd.read_csv(\"resources/worldcities.csv\")\n",
    "\n",
    "#Preview the data.\n",
    "world_data.head()"
   ]
  },
  {
   "cell_type": "code",
   "execution_count": null,
   "metadata": {},
   "outputs": [],
   "source": [
    "\n",
    "# Randomly select 500 cities for weather data.\n",
    "\n",
    "selected_cities = world_data.sample(n=500)\n",
    "\n",
    "#Visualize the selected cities DataFrame.\n",
    "\n",
    "selected_cities"
   ]
  },
  {
   "cell_type": "code",
   "execution_count": null,
   "metadata": {},
   "outputs": [],
   "source": [
    "#Counter\n",
    "\n",
    "row_count = 0\n",
    "\n",
    "# Create blank columns for the necessary fields.\n",
    "\n",
    "selected_cities[\"Temperature\"] = \"\"\n",
    "selected_cities[\"Humidity\"] = \"\"\n",
    "selected_cities[\"Cloudiness\"] = \"\"\n",
    "selected_cities[\"Wind Speed\"] = \"\"\n",
    "\n",
    "# Loop through and get the weather data using the Open Weather API.\n",
    "\n",
    "for index, row in selected_cities.iterrows():\n",
    "    #Sleep to help with the call limit\n",
    "    \n",
    "    time.sleep(1)\n",
    "    \n",
    "    #Open weather url.\n",
    "    \n",
    "    url = \"https://api.openweathermap.org/data/2.5/weather?\"\n",
    "    units = \"Imperial\"\n",
    "    \n",
    "    query_url = url + \"lat=\"+ str(row[\"Latitude\"]) + \"&lon=\" + str(row[\"Longitude\"]) + \"&appid=\" + api_key + \"&units=\" + units\n",
    "    #Print log to ensure the loop is working correctly.\n",
    "    \n",
    "    print(\"Now retieving city # \" + str(row_count))\n",
    "    print(query_url)\n",
    "    row_count += 1\n",
    "    \n",
    "    #Run requests to grab the JSON at the requested URL\n",
    "    \n",
    "    city_weather = requests.get(query_url).json()\n",
    "    \n",
    "    \n",
    "    #print(row[\"Latitude\"],row[\"Longitude\"])\n",
    "#print(city_weather.keys())\n",
    "    \n",
    "    #Append the weather data to the appropriate columns.\n",
    "    #Use try/except to skip any cities with errors.\n",
    "    #selected_cities.append(requests.get(query_url + str(city_weather)).json())\n",
    "    try:\n",
    "        temperature = city_weather[\"main\"][\"temp\"]\n",
    "        humidity = city_weather[\"main\"][\"humidity\"]\n",
    "        cloudiness = city_weather[\"clouds\"][\"all\"]\n",
    "        wind_speed = city_weather[\"wind\"][\"speed\"]\n",
    "        \n",
    "        selected_cities.set_value(index, \"Temperature\", temperature)\n",
    "        selected_cities.set_value(index,\"Humidity\", humidity)\n",
    "        selected_cities.set_value(index,\"Cloudiness\", cloudiness)\n",
    "        selected_cities.set_value(index,\"Wind Speed\", wind_speed)\n",
    "    except:\n",
    "        print(\"Error with weather data, skipping.\")\n",
    "        #continue\n",
    "selected_cities"
   ]
  },
  {
   "cell_type": "code",
   "execution_count": null,
   "metadata": {},
   "outputs": [],
   "source": [
    "selected_cities.to_csv(\"WorldWeatherData.csv\", index=False)"
   ]
  },
  {
   "cell_type": "code",
   "execution_count": null,
   "metadata": {},
   "outputs": [],
   "source": [
    "\n",
    "plt.scatter(selected_cities[\"Latitude\"],selected_cities[\"Humidity\"], alpha = 0.75)\n",
    "\n",
    "plt.title(\"Latitude vs. Humidity Date of Analysis 10-29-2017\")\n",
    "plt.xlabel(\"Latitude\")\n",
    "plt.ylabel(\"Humidity\")\n",
    "plt.savefig(\"Humidity.png\")\n",
    "plt.show()"
   ]
  }
 ],
 "metadata": {
  "kernelspec": {
   "display_name": "Python 3",
   "language": "python",
   "name": "python3"
  },
  "language_info": {
   "codemirror_mode": {
    "name": "ipython",
    "version": 3
   },
   "file_extension": ".py",
   "mimetype": "text/x-python",
   "name": "python",
   "nbconvert_exporter": "python",
   "pygments_lexer": "ipython3",
   "version": "3.6.4"
  }
 },
 "nbformat": 4,
 "nbformat_minor": 2
}
