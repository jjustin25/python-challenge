{
 "cells": [
  {
   "cell_type": "code",
   "execution_count": 16,
   "metadata": {},
   "outputs": [],
   "source": [
    "#import os and csv files\n",
    "import os\n",
    "import csv\n",
    "\n",
    "#initialize variables\n",
    "candidates = []\n",
    "num_votes = 0\n",
    "vote_counts = []\n",
    "\n",
    "file_name = 'election_data_2.csv'\n",
    "filepath = os.path.join('Resources',file_name)\n",
    "csvpath = os.path.join('Resources', 'election_data_1.csv')"
   ]
  },
  {
   "cell_type": "code",
   "execution_count": 17,
   "metadata": {},
   "outputs": [],
   "source": [
    "vote_count = 0\n",
    "candidates = {}\n",
    "candidates_percent = {}\n",
    "winner = \"\"\n",
    "winner_count = 0"
   ]
  },
  {
   "cell_type": "code",
   "execution_count": 19,
   "metadata": {},
   "outputs": [],
   "source": [
    "#with open(filepath,newline=\"\") as csvfile:\n",
    "#    csvreader = csv.reader(csvfile)\n",
    "#    line = next(csvreader,None)\n",
    "#\n",
    "#   for line in csvreader:\n",
    "#        num_votes = num_votes + 1\n",
    "#\n",
    "#       candidate = line[2]\n",
    "#        if candidate in candidates:\n",
    "#            candidate_index = candidates.index(candidate)\n",
    "#            vote_counts[candidate_index] = vote_counts[candidate_index] + 1\n",
    "#        else:\n",
    "#            candidates.append(candidate)\n",
    "#            vote_counts.append(1)\n"
   ]
  },
  {
   "cell_type": "code",
   "execution_count": 12,
   "metadata": {},
   "outputs": [],
   "source": [
    "with open(csvpath, newline = \"\") as csvfile:\n",
    "    csvreader = csv.reader(csvfile, delimiter = \",\")\n",
    "    next(csvreader, None)\n",
    "\n",
    "    for row in csvreader:\n",
    "        vote_count += 1\n",
    "        if row[2] in candidates.keys():\n",
    "            candidates[row[2]] += 1\n",
    "        else:\n",
    "            candidates[row[2]] = 1"
   ]
  },
  {
   "cell_type": "code",
   "execution_count": 13,
   "metadata": {},
   "outputs": [],
   "source": [
    "for key, value in candidates.items():\n",
    "    candidates_percent[key] = round((value/vote_count) * 100, 2)\n",
    "\n",
    "for key in candidates.keys():\n",
    "    if candidates[key] > winner_count:\n",
    "        winner = key\n",
    "        winner_count = candidates[key]"
   ]
  },
  {
   "cell_type": "code",
   "execution_count": 15,
   "metadata": {},
   "outputs": [
    {
     "name": "stdout",
     "output_type": "stream",
     "text": [
      "Election Results\n",
      "-------------------------------------\n",
      "Total Votes: 803000\n",
      "-------------------------------------\n",
      "Vestal: 48.0% (385440)\n",
      "Torres: 44.0% (353320)\n",
      "Seth: 5.0% (40150)\n",
      "Cordin: 3.0% (24090)\n",
      "-------------------------------------\n",
      "Winner: Vestal\n"
     ]
    }
   ],
   "source": [
    "print(\"Election Results\")\n",
    "print(\"-------------------------------------\")\n",
    "print(\"Total Votes: \" + str(vote_count))\n",
    "print(\"-------------------------------------\")\n",
    "for key, value in candidates.items():\n",
    "    print(key + \": \" + str(candidates_percent[key]) + \"% (\" + str(value) + \")\")\n",
    "print(\"-------------------------------------\")\n",
    "print(\"Winner: \" + winner)"
   ]
  },
  {
   "cell_type": "code",
   "execution_count": 21,
   "metadata": {},
   "outputs": [],
   "source": [
    "new_file = open(\"results_1.txt\", \"w\")"
   ]
  },
  {
   "cell_type": "code",
   "execution_count": null,
   "metadata": {},
   "outputs": [],
   "source": []
  }
 ],
 "metadata": {
  "kernelspec": {
   "display_name": "Python 3",
   "language": "python",
   "name": "python3"
  },
  "language_info": {
   "codemirror_mode": {
    "name": "ipython",
    "version": 3
   },
   "file_extension": ".py",
   "mimetype": "text/x-python",
   "name": "python",
   "nbconvert_exporter": "python",
   "pygments_lexer": "ipython3",
   "version": "3.6.5"
  }
 },
 "nbformat": 4,
 "nbformat_minor": 2
}
