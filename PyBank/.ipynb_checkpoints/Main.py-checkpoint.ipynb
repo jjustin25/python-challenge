{
 "cells": [
  {
   "cell_type": "code",
   "execution_count": 35,
   "metadata": {},
   "outputs": [],
   "source": [
    "# import dependencies\n",
    "import pandas as pd\n",
    "import csv \n",
    "import os\n",
    "import sys"
   ]
  },
  {
   "cell_type": "code",
   "execution_count": 36,
   "metadata": {},
   "outputs": [],
   "source": [
    "# load files \n",
    "load_budget = \"budget_data_1.csv\"\n",
    "load_budget2= \"budget_data_2.csv\"\n",
    "csvpath =  os.path.join('budget_data_1.csv')"
   ]
  },
  {
   "cell_type": "code",
   "execution_count": 37,
   "metadata": {},
   "outputs": [],
   "source": [
    "#revenue parameters\n",
    "total_revenue=0\n",
    "#month parameters\n",
    "total_months=0"
   ]
  },
  {
   "cell_type": "code",
   "execution_count": 38,
   "metadata": {},
   "outputs": [],
   "source": [
    "with open(load_budget,newline =\"\") as budget_data:\n",
    "\n",
    "   csvreader= csv.DictReader(budget_data)\n",
    "   for row in csvreader:\n",
    "       total_months=total_months+1\n",
    "\n",
    "       total_revenue = total_revenue + int(row[\"Revenue\"])\n"
   ]
  },
  {
   "cell_type": "code",
   "execution_count": null,
   "metadata": {},
   "outputs": [],
   "source": []
  },
  {
   "cell_type": "code",
   "execution_count": null,
   "metadata": {},
   "outputs": [],
   "source": []
  },
  {
   "cell_type": "code",
   "execution_count": 39,
   "metadata": {},
   "outputs": [],
   "source": [
    "\n",
    "greatest_inc = -sys.maxsize - 1\n",
    "greatest_inc_date = \"\"\n",
    "greatest_dec = sys.maxsize\n",
    "greatest_dec_date = \"\""
   ]
  },
  {
   "cell_type": "code",
   "execution_count": 40,
   "metadata": {},
   "outputs": [],
   "source": [
    "with open(csvpath, newline = '') as csvfile:\n",
    "    csvreader = csv.reader(csvfile, delimiter = ',')\n",
    "    next(csvreader, None)\n",
    "\n",
    "    for row in csvreader:\n",
    "        total_months += 1\n",
    "        total_revenue += int(row[1])\n",
    "        if int(row[1]) >= greatest_inc:\n",
    "            greatest_inc = int(row[1])\n",
    "            greatest_inc_date = row[0]\n",
    "        if int(row[1]) <= greatest_dec:\n",
    "            greatest_dec = int(row[1])\n",
    "            greatest_dec_date = row[0]"
   ]
  },
  {
   "cell_type": "code",
   "execution_count": 41,
   "metadata": {},
   "outputs": [],
   "source": [
    "average_change = round(total_revenue/total_months, 2)"
   ]
  },
  {
   "cell_type": "code",
   "execution_count": 42,
   "metadata": {},
   "outputs": [
    {
     "name": "stdout",
     "output_type": "stream",
     "text": [
      "Financial Analysis\n",
      "--------------------------------------------\n",
      "Total Months: 82\n",
      "Total Revenue: $37942824\n",
      "Average Revenue Change: $462717.37\n",
      "Greatest Increase in Revenue: Sep-15 ($1195111)\n",
      "Greatest Decrease in Revenue: Aug-14 ($-1172384)\n"
     ]
    }
   ],
   "source": [
    "print(\"Financial Analysis\")\n",
    "print(\"--------------------------------------------\")\n",
    "print(\"Total Months: \" + str(total_months))\n",
    "print(\"Total Revenue: $\" + str(total_revenue))\n",
    "print(\"Average Revenue Change: $\" + str(average_change))\n",
    "print(\"Greatest Increase in Revenue: \" + greatest_inc_date + \" ($\" + str(greatest_inc) + \")\")\n",
    "print(\"Greatest Decrease in Revenue: \" + greatest_dec_date + \" ($\" + str(greatest_dec) + \")\")"
   ]
  },
  {
   "cell_type": "code",
   "execution_count": null,
   "metadata": {},
   "outputs": [],
   "source": []
  },
  {
   "cell_type": "code",
   "execution_count": 44,
   "metadata": {},
   "outputs": [
    {
     "data": {
      "text/plain": [
       "49"
      ]
     },
     "execution_count": 44,
     "metadata": {},
     "output_type": "execute_result"
    }
   ],
   "source": [
    "new_file = open(\"analysis_1.txt\", \"w\")\n",
    "new_file.write(\"Financial Analysis \\n\")\n",
    "new_file.write(\"-------------------------------------------- \\n\")\n",
    "new_file.write(\"Total Months: \" + str(total_months) + \"\\n\")\n",
    "new_file.write(\"Total Revenue: $\" + str(total_revenue) + \"\\n\")\n",
    "new_file.write(\"Average Revenue Change: $\" + str(average_change) + \"\\n\")\n",
    "new_file.write(\"Greatest Increase in Revenue: \" + greatest_inc_date + \" ($\" + str(greatest_inc) + \")\" + \"\\n\")\n",
    "new_file.write(\"Greatest Decrease in Revenue: \" + greatest_dec_date + \" ($\" + str(greatest_dec) + \")\" + \"\\n\")"
   ]
  },
  {
   "cell_type": "code",
   "execution_count": 48,
   "metadata": {},
   "outputs": [
    {
     "name": "stdout",
     "output_type": "stream",
     "text": [
      "<_io.TextIOWrapper name='analysis_1.txt' mode='w' encoding='cp1252'>\n"
     ]
    }
   ],
   "source": [
    "print(new_file)\n"
   ]
  },
  {
   "cell_type": "code",
   "execution_count": null,
   "metadata": {},
   "outputs": [],
   "source": []
  }
 ],
 "metadata": {
  "kernelspec": {
   "display_name": "Python 3",
   "language": "python",
   "name": "python3"
  }
 },
 "nbformat": 4,
 "nbformat_minor": 2
}
